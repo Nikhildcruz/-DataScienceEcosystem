{
 "cells": [
  {
   "cell_type": "markdown",
   "id": "251d1b2f",
   "metadata": {},
   "source": [
    "# Data Science Tools and Ecosystem"
   ]
  },
  {
   "cell_type": "markdown",
   "id": "4b209c00",
   "metadata": {},
   "source": [
    "In this notebook, Data Science Tools and Ecosystem are summarized"
   ]
  },
  {
   "cell_type": "markdown",
   "id": "14d73cba",
   "metadata": {},
   "source": [
    "**Objectives:**"
   ]
  },
  {
   "cell_type": "markdown",
   "id": "448618c9",
   "metadata": {},
   "source": [
    "# Some of the popular languages that Data Scientists use are:"
   ]
  },
  {
   "cell_type": "markdown",
   "id": "832baa0a",
   "metadata": {},
   "source": [
    "1.Python\n",
    "\n",
    "2.R\n",
    "\n",
    "3.SQL"
   ]
  },
  {
   "cell_type": "markdown",
   "id": "b3b7245b",
   "metadata": {},
   "source": [
    "  "
   ]
  },
  {
   "cell_type": "markdown",
   "id": "9f4b2ef6",
   "metadata": {},
   "source": [
    "Some of the commonly used libraries used by Data Scientists include:"
   ]
  },
  {
   "cell_type": "markdown",
   "id": "a9818d54",
   "metadata": {},
   "source": [
    "1.Numpy\n",
    "\n",
    "2.Keras\n",
    "\n",
    "3.Pytorch\n",
    "\n",
    "4.SciPy"
   ]
  },
  {
   "cell_type": "markdown",
   "id": "b5e3178c",
   "metadata": {},
   "source": [
    "   "
   ]
  },
  {
   "cell_type": "markdown",
   "id": "92af0182",
   "metadata": {},
   "source": [
    " "
   ]
  },
  {
   "cell_type": "markdown",
   "id": "2da9530f",
   "metadata": {},
   "source": [
    "Table"
   ]
  },
  {
   "cell_type": "markdown",
   "id": "daeb5abb",
   "metadata": {},
   "source": [
    "| Data Science Tools | Open Source Tools |\n",
    "|------------------|-------------------|\n",
    "| Python | Jupyter Notebook |\n",
    "|R| R Studio|\n",
    "|Java|Oracle"
   ]
  },
  {
   "cell_type": "markdown",
   "id": "30290bf8",
   "metadata": {},
   "source": [
    "#     "
   ]
  },
  {
   "cell_type": "markdown",
   "id": "3f42f2e3",
   "metadata": {},
   "source": [
    "# Below are a few examples of evaluating arithmetic expressions in Python."
   ]
  },
  {
   "cell_type": "code",
   "execution_count": 19,
   "id": "f82f7fc1",
   "metadata": {},
   "outputs": [
    {
     "data": {
      "text/plain": [
       "17"
      ]
     },
     "execution_count": 19,
     "metadata": {},
     "output_type": "execute_result"
    }
   ],
   "source": [
    "def  multiply_and_add ( a, b, c):\n",
    "    \n",
    "     return  a * b + c\n",
    "     print(result)\n",
    "    \n",
    "multiply_and_add(3, 4, 5)   "
   ]
  },
  {
   "cell_type": "markdown",
   "id": "9d1f812c",
   "metadata": {},
   "source": [
    "    "
   ]
  },
  {
   "cell_type": "markdown",
   "id": "a2f07bcb",
   "metadata": {},
   "source": [
    "  "
   ]
  },
  {
   "cell_type": "code",
   "execution_count": 20,
   "id": "a4d32d24",
   "metadata": {},
   "outputs": [
    {
     "name": "stdout",
     "output_type": "stream",
     "text": [
      "3.3333333333333335\n"
     ]
    }
   ],
   "source": [
    "#This will convert 200 minutes to hours by diving by 60.\n",
    "hours = 200 / 60\n",
    "\n",
    "# Print the result\n",
    "print(hours)"
   ]
  },
  {
   "cell_type": "markdown",
   "id": "c78825e1",
   "metadata": {},
   "source": [
    "# Nikhil D'cruz"
   ]
  },
  {
   "cell_type": "code",
   "execution_count": null,
   "id": "f0a7f758",
   "metadata": {},
   "outputs": [],
   "source": []
  }
 ],
 "metadata": {
  "kernelspec": {
   "display_name": "Python 3 (ipykernel)",
   "language": "python",
   "name": "python3"
  },
  "language_info": {
   "codemirror_mode": {
    "name": "ipython",
    "version": 3
   },
   "file_extension": ".py",
   "mimetype": "text/x-python",
   "name": "python",
   "nbconvert_exporter": "python",
   "pygments_lexer": "ipython3",
   "version": "3.9.12"
  }
 },
 "nbformat": 4,
 "nbformat_minor": 5
}
